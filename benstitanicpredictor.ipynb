{
 "cells": [
  {
   "cell_type": "code",
   "execution_count": 1,
   "id": "934ee08b",
   "metadata": {
    "_cell_guid": "b1076dfc-b9ad-4769-8c92-a6c4dae69d19",
    "_uuid": "8f2839f25d086af736a60e9eeb907d3b93b6e0e5",
    "execution": {
     "iopub.execute_input": "2023-07-27T14:18:26.765801Z",
     "iopub.status.busy": "2023-07-27T14:18:26.765494Z",
     "iopub.status.idle": "2023-07-27T14:18:28.011499Z",
     "shell.execute_reply": "2023-07-27T14:18:28.009913Z"
    },
    "papermill": {
     "duration": 1.252696,
     "end_time": "2023-07-27T14:18:28.013459",
     "exception": false,
     "start_time": "2023-07-27T14:18:26.760763",
     "status": "completed"
    },
    "tags": []
   },
   "outputs": [
    {
     "name": "stderr",
     "output_type": "stream",
     "text": [
      "/opt/conda/lib/python3.10/site-packages/scipy/__init__.py:146: UserWarning: A NumPy version >=1.16.5 and <1.23.0 is required for this version of SciPy (detected version 1.23.5\n",
      "  warnings.warn(f\"A NumPy version >={np_minversion} and <{np_maxversion}\"\n"
     ]
    },
    {
     "name": "stdout",
     "output_type": "stream",
     "text": [
      "/kaggle/input/titanic/train.csv\n",
      "/kaggle/input/titanic/test.csv\n",
      "/kaggle/input/titanic/gender_submission.csv\n"
     ]
    }
   ],
   "source": [
    "# This Python 3 environment comes with many helpful analytics libraries installed\n",
    "# It is defined by the kaggle/python Docker image: https://github.com/kaggle/docker-python\n",
    "# For example, here's several helpful packages to load\n",
    "\n",
    "import numpy as np # linear algebra\n",
    "import pandas as pd # data processing, CSV file I/O (e.g. pd.read_csv)\n",
    "from sklearn import tree\n",
    "#no need to train_test_split because we have a test.csv and a train.csv\n",
    "from sklearn.preprocessing import OneHotEncoder # encode strings to binary\n",
    "from sklearn.metrics import mean_absolute_error as mae # so we can see how wrong we are\n",
    "\n",
    "# Input data files are available in the read-only \"../input/\" directory\n",
    "# For example, running this (by clicking run or pressing Shift+Enter) will list all files under the input directory\n",
    "\n",
    "import os\n",
    "for dirname, _, filenames in os.walk('/kaggle/input'):\n",
    "    for filename in filenames:\n",
    "        print(os.path.join(dirname, filename))\n",
    "\n",
    "# You can write up to 20GB to the current directory (/kaggle/working/) that gets preserved as output when you create a version using \"Save & Run All\" \n",
    "# You can also write temporary files to /kaggle/temp/, but they won't be saved outside of the current session"
   ]
  },
  {
   "cell_type": "code",
   "execution_count": 2,
   "id": "8c097ca1",
   "metadata": {
    "execution": {
     "iopub.execute_input": "2023-07-27T14:18:28.020622Z",
     "iopub.status.busy": "2023-07-27T14:18:28.020309Z",
     "iopub.status.idle": "2023-07-27T14:18:28.050181Z",
     "shell.execute_reply": "2023-07-27T14:18:28.049206Z"
    },
    "papermill": {
     "duration": 0.035867,
     "end_time": "2023-07-27T14:18:28.052429",
     "exception": false,
     "start_time": "2023-07-27T14:18:28.016562",
     "status": "completed"
    },
    "tags": []
   },
   "outputs": [],
   "source": [
    "df = pd.read_csv('../input/titanic/train.csv')\n",
    "train = pd.read_csv('../input/titanic/test.csv')"
   ]
  },
  {
   "cell_type": "code",
   "execution_count": 3,
   "id": "32d63f2c",
   "metadata": {
    "execution": {
     "iopub.execute_input": "2023-07-27T14:18:28.059734Z",
     "iopub.status.busy": "2023-07-27T14:18:28.059379Z",
     "iopub.status.idle": "2023-07-27T14:18:28.084019Z",
     "shell.execute_reply": "2023-07-27T14:18:28.082521Z"
    },
    "papermill": {
     "duration": 0.03113,
     "end_time": "2023-07-27T14:18:28.086545",
     "exception": false,
     "start_time": "2023-07-27T14:18:28.055415",
     "status": "completed"
    },
    "tags": []
   },
   "outputs": [
    {
     "data": {
      "text/html": [
       "<div>\n",
       "<style scoped>\n",
       "    .dataframe tbody tr th:only-of-type {\n",
       "        vertical-align: middle;\n",
       "    }\n",
       "\n",
       "    .dataframe tbody tr th {\n",
       "        vertical-align: top;\n",
       "    }\n",
       "\n",
       "    .dataframe thead th {\n",
       "        text-align: right;\n",
       "    }\n",
       "</style>\n",
       "<table border=\"1\" class=\"dataframe\">\n",
       "  <thead>\n",
       "    <tr style=\"text-align: right;\">\n",
       "      <th></th>\n",
       "      <th>PassengerId</th>\n",
       "      <th>Survived</th>\n",
       "      <th>Pclass</th>\n",
       "      <th>Name</th>\n",
       "      <th>Sex</th>\n",
       "      <th>Age</th>\n",
       "      <th>SibSp</th>\n",
       "      <th>Parch</th>\n",
       "      <th>Ticket</th>\n",
       "      <th>Fare</th>\n",
       "      <th>Cabin</th>\n",
       "      <th>Embarked</th>\n",
       "    </tr>\n",
       "  </thead>\n",
       "  <tbody>\n",
       "    <tr>\n",
       "      <th>0</th>\n",
       "      <td>1</td>\n",
       "      <td>0</td>\n",
       "      <td>3</td>\n",
       "      <td>Braund, Mr. Owen Harris</td>\n",
       "      <td>male</td>\n",
       "      <td>22.0</td>\n",
       "      <td>1</td>\n",
       "      <td>0</td>\n",
       "      <td>A/5 21171</td>\n",
       "      <td>7.2500</td>\n",
       "      <td>NaN</td>\n",
       "      <td>S</td>\n",
       "    </tr>\n",
       "    <tr>\n",
       "      <th>1</th>\n",
       "      <td>2</td>\n",
       "      <td>1</td>\n",
       "      <td>1</td>\n",
       "      <td>Cumings, Mrs. John Bradley (Florence Briggs Th...</td>\n",
       "      <td>female</td>\n",
       "      <td>38.0</td>\n",
       "      <td>1</td>\n",
       "      <td>0</td>\n",
       "      <td>PC 17599</td>\n",
       "      <td>71.2833</td>\n",
       "      <td>C85</td>\n",
       "      <td>C</td>\n",
       "    </tr>\n",
       "    <tr>\n",
       "      <th>2</th>\n",
       "      <td>3</td>\n",
       "      <td>1</td>\n",
       "      <td>3</td>\n",
       "      <td>Heikkinen, Miss. Laina</td>\n",
       "      <td>female</td>\n",
       "      <td>26.0</td>\n",
       "      <td>0</td>\n",
       "      <td>0</td>\n",
       "      <td>STON/O2. 3101282</td>\n",
       "      <td>7.9250</td>\n",
       "      <td>NaN</td>\n",
       "      <td>S</td>\n",
       "    </tr>\n",
       "    <tr>\n",
       "      <th>3</th>\n",
       "      <td>4</td>\n",
       "      <td>1</td>\n",
       "      <td>1</td>\n",
       "      <td>Futrelle, Mrs. Jacques Heath (Lily May Peel)</td>\n",
       "      <td>female</td>\n",
       "      <td>35.0</td>\n",
       "      <td>1</td>\n",
       "      <td>0</td>\n",
       "      <td>113803</td>\n",
       "      <td>53.1000</td>\n",
       "      <td>C123</td>\n",
       "      <td>S</td>\n",
       "    </tr>\n",
       "    <tr>\n",
       "      <th>4</th>\n",
       "      <td>5</td>\n",
       "      <td>0</td>\n",
       "      <td>3</td>\n",
       "      <td>Allen, Mr. William Henry</td>\n",
       "      <td>male</td>\n",
       "      <td>35.0</td>\n",
       "      <td>0</td>\n",
       "      <td>0</td>\n",
       "      <td>373450</td>\n",
       "      <td>8.0500</td>\n",
       "      <td>NaN</td>\n",
       "      <td>S</td>\n",
       "    </tr>\n",
       "  </tbody>\n",
       "</table>\n",
       "</div>"
      ],
      "text/plain": [
       "   PassengerId  Survived  Pclass  \\\n",
       "0            1         0       3   \n",
       "1            2         1       1   \n",
       "2            3         1       3   \n",
       "3            4         1       1   \n",
       "4            5         0       3   \n",
       "\n",
       "                                                Name     Sex   Age  SibSp  \\\n",
       "0                            Braund, Mr. Owen Harris    male  22.0      1   \n",
       "1  Cumings, Mrs. John Bradley (Florence Briggs Th...  female  38.0      1   \n",
       "2                             Heikkinen, Miss. Laina  female  26.0      0   \n",
       "3       Futrelle, Mrs. Jacques Heath (Lily May Peel)  female  35.0      1   \n",
       "4                           Allen, Mr. William Henry    male  35.0      0   \n",
       "\n",
       "   Parch            Ticket     Fare Cabin Embarked  \n",
       "0      0         A/5 21171   7.2500   NaN        S  \n",
       "1      0          PC 17599  71.2833   C85        C  \n",
       "2      0  STON/O2. 3101282   7.9250   NaN        S  \n",
       "3      0            113803  53.1000  C123        S  \n",
       "4      0            373450   8.0500   NaN        S  "
      ]
     },
     "execution_count": 3,
     "metadata": {},
     "output_type": "execute_result"
    }
   ],
   "source": [
    "df.head()\n",
    "#0 is male, 1 is female"
   ]
  },
  {
   "cell_type": "code",
   "execution_count": 4,
   "id": "94e1fa4d",
   "metadata": {
    "execution": {
     "iopub.execute_input": "2023-07-27T14:18:28.094351Z",
     "iopub.status.busy": "2023-07-27T14:18:28.094062Z",
     "iopub.status.idle": "2023-07-27T14:18:28.123414Z",
     "shell.execute_reply": "2023-07-27T14:18:28.122440Z"
    },
    "papermill": {
     "duration": 0.035913,
     "end_time": "2023-07-27T14:18:28.125713",
     "exception": false,
     "start_time": "2023-07-27T14:18:28.089800",
     "status": "completed"
    },
    "tags": []
   },
   "outputs": [],
   "source": [
    "#decision tree regression makes the most sense here because we're\n",
    "#we're trying link a lot of complicated data together in a linear way.\n",
    "\n",
    "model = tree.DecisionTreeRegressor()\n",
    "test = pd.read_csv('../input/titanic/test.csv')\n",
    "\n",
    "#One-hot encoding the 'Sex' column\n",
    "encoder = OneHotEncoder()\n",
    "encoded_data = encoder.fit_transform(df[['Sex']])\n",
    "encoded_df = pd.DataFrame(encoded_data.toarray(), columns=encoder.get_feature_names_out(input_features=['Sex']))\n",
    "new_df = pd.concat([df.drop('Sex', axis=1), encoded_df], axis=1)\n",
    "\n",
    "cleaned_df = new_df.dropna(axis=0)\n",
    "\n",
    "cleaned_df.head()\n",
    "\n",
    "encoded_test_data = encoder.fit_transform(df[['Sex']])\n",
    "encoded_test_df = pd.DataFrame(encoded_data.toarray(), columns = encoder.get_feature_names_out(input_features=['Sex']))\n",
    "new_test_df = pd.concat([df.drop('Sex', axis = 1), encoded_df], axis = 1)\n",
    "\n",
    "cleaned_test_df = new_test_df.dropna(axis=0)"
   ]
  },
  {
   "cell_type": "code",
   "execution_count": 5,
   "id": "9ce9ab61",
   "metadata": {
    "execution": {
     "iopub.execute_input": "2023-07-27T14:18:28.133189Z",
     "iopub.status.busy": "2023-07-27T14:18:28.132839Z",
     "iopub.status.idle": "2023-07-27T14:18:28.138820Z",
     "shell.execute_reply": "2023-07-27T14:18:28.137818Z"
    },
    "papermill": {
     "duration": 0.0118,
     "end_time": "2023-07-27T14:18:28.140721",
     "exception": false,
     "start_time": "2023-07-27T14:18:28.128921",
     "status": "completed"
    },
    "tags": []
   },
   "outputs": [],
   "source": [
    "\n",
    "#creating inputs and targets for our decision tree regressor\n",
    "inputs = cleaned_df[['Sex_female', 'Sex_male', 'Age']]\n",
    "target = cleaned_df[['Survived']]"
   ]
  },
  {
   "cell_type": "code",
   "execution_count": 6,
   "id": "02e75d5d",
   "metadata": {
    "execution": {
     "iopub.execute_input": "2023-07-27T14:18:28.147995Z",
     "iopub.status.busy": "2023-07-27T14:18:28.147658Z",
     "iopub.status.idle": "2023-07-27T14:18:28.163148Z",
     "shell.execute_reply": "2023-07-27T14:18:28.162228Z"
    },
    "papermill": {
     "duration": 0.02133,
     "end_time": "2023-07-27T14:18:28.165053",
     "exception": false,
     "start_time": "2023-07-27T14:18:28.143723",
     "status": "completed"
    },
    "tags": []
   },
   "outputs": [
    {
     "data": {
      "text/html": [
       "<style>#sk-container-id-1 {color: black;background-color: white;}#sk-container-id-1 pre{padding: 0;}#sk-container-id-1 div.sk-toggleable {background-color: white;}#sk-container-id-1 label.sk-toggleable__label {cursor: pointer;display: block;width: 100%;margin-bottom: 0;padding: 0.3em;box-sizing: border-box;text-align: center;}#sk-container-id-1 label.sk-toggleable__label-arrow:before {content: \"▸\";float: left;margin-right: 0.25em;color: #696969;}#sk-container-id-1 label.sk-toggleable__label-arrow:hover:before {color: black;}#sk-container-id-1 div.sk-estimator:hover label.sk-toggleable__label-arrow:before {color: black;}#sk-container-id-1 div.sk-toggleable__content {max-height: 0;max-width: 0;overflow: hidden;text-align: left;background-color: #f0f8ff;}#sk-container-id-1 div.sk-toggleable__content pre {margin: 0.2em;color: black;border-radius: 0.25em;background-color: #f0f8ff;}#sk-container-id-1 input.sk-toggleable__control:checked~div.sk-toggleable__content {max-height: 200px;max-width: 100%;overflow: auto;}#sk-container-id-1 input.sk-toggleable__control:checked~label.sk-toggleable__label-arrow:before {content: \"▾\";}#sk-container-id-1 div.sk-estimator input.sk-toggleable__control:checked~label.sk-toggleable__label {background-color: #d4ebff;}#sk-container-id-1 div.sk-label input.sk-toggleable__control:checked~label.sk-toggleable__label {background-color: #d4ebff;}#sk-container-id-1 input.sk-hidden--visually {border: 0;clip: rect(1px 1px 1px 1px);clip: rect(1px, 1px, 1px, 1px);height: 1px;margin: -1px;overflow: hidden;padding: 0;position: absolute;width: 1px;}#sk-container-id-1 div.sk-estimator {font-family: monospace;background-color: #f0f8ff;border: 1px dotted black;border-radius: 0.25em;box-sizing: border-box;margin-bottom: 0.5em;}#sk-container-id-1 div.sk-estimator:hover {background-color: #d4ebff;}#sk-container-id-1 div.sk-parallel-item::after {content: \"\";width: 100%;border-bottom: 1px solid gray;flex-grow: 1;}#sk-container-id-1 div.sk-label:hover label.sk-toggleable__label {background-color: #d4ebff;}#sk-container-id-1 div.sk-serial::before {content: \"\";position: absolute;border-left: 1px solid gray;box-sizing: border-box;top: 0;bottom: 0;left: 50%;z-index: 0;}#sk-container-id-1 div.sk-serial {display: flex;flex-direction: column;align-items: center;background-color: white;padding-right: 0.2em;padding-left: 0.2em;position: relative;}#sk-container-id-1 div.sk-item {position: relative;z-index: 1;}#sk-container-id-1 div.sk-parallel {display: flex;align-items: stretch;justify-content: center;background-color: white;position: relative;}#sk-container-id-1 div.sk-item::before, #sk-container-id-1 div.sk-parallel-item::before {content: \"\";position: absolute;border-left: 1px solid gray;box-sizing: border-box;top: 0;bottom: 0;left: 50%;z-index: -1;}#sk-container-id-1 div.sk-parallel-item {display: flex;flex-direction: column;z-index: 1;position: relative;background-color: white;}#sk-container-id-1 div.sk-parallel-item:first-child::after {align-self: flex-end;width: 50%;}#sk-container-id-1 div.sk-parallel-item:last-child::after {align-self: flex-start;width: 50%;}#sk-container-id-1 div.sk-parallel-item:only-child::after {width: 0;}#sk-container-id-1 div.sk-dashed-wrapped {border: 1px dashed gray;margin: 0 0.4em 0.5em 0.4em;box-sizing: border-box;padding-bottom: 0.4em;background-color: white;}#sk-container-id-1 div.sk-label label {font-family: monospace;font-weight: bold;display: inline-block;line-height: 1.2em;}#sk-container-id-1 div.sk-label-container {text-align: center;}#sk-container-id-1 div.sk-container {/* jupyter's `normalize.less` sets `[hidden] { display: none; }` but bootstrap.min.css set `[hidden] { display: none !important; }` so we also need the `!important` here to be able to override the default hidden behavior on the sphinx rendered scikit-learn.org. See: https://github.com/scikit-learn/scikit-learn/issues/21755 */display: inline-block !important;position: relative;}#sk-container-id-1 div.sk-text-repr-fallback {display: none;}</style><div id=\"sk-container-id-1\" class=\"sk-top-container\"><div class=\"sk-text-repr-fallback\"><pre>DecisionTreeRegressor()</pre><b>In a Jupyter environment, please rerun this cell to show the HTML representation or trust the notebook. <br />On GitHub, the HTML representation is unable to render, please try loading this page with nbviewer.org.</b></div><div class=\"sk-container\" hidden><div class=\"sk-item\"><div class=\"sk-estimator sk-toggleable\"><input class=\"sk-toggleable__control sk-hidden--visually\" id=\"sk-estimator-id-1\" type=\"checkbox\" checked><label for=\"sk-estimator-id-1\" class=\"sk-toggleable__label sk-toggleable__label-arrow\">DecisionTreeRegressor</label><div class=\"sk-toggleable__content\"><pre>DecisionTreeRegressor()</pre></div></div></div></div></div>"
      ],
      "text/plain": [
       "DecisionTreeRegressor()"
      ]
     },
     "execution_count": 6,
     "metadata": {},
     "output_type": "execute_result"
    }
   ],
   "source": [
    "#training the model using the .fit() method\n",
    "model.fit(inputs, target)"
   ]
  },
  {
   "cell_type": "code",
   "execution_count": 7,
   "id": "48ea7adf",
   "metadata": {
    "execution": {
     "iopub.execute_input": "2023-07-27T14:18:28.173422Z",
     "iopub.status.busy": "2023-07-27T14:18:28.172498Z",
     "iopub.status.idle": "2023-07-27T14:18:28.183902Z",
     "shell.execute_reply": "2023-07-27T14:18:28.182919Z"
    },
    "papermill": {
     "duration": 0.017419,
     "end_time": "2023-07-27T14:18:28.185792",
     "exception": false,
     "start_time": "2023-07-27T14:18:28.168373",
     "status": "completed"
    },
    "tags": []
   },
   "outputs": [
    {
     "data": {
      "text/plain": [
       "0.09705958886286756"
      ]
     },
     "execution_count": 7,
     "metadata": {},
     "output_type": "execute_result"
    }
   ],
   "source": [
    "test_inputs = cleaned_test_df[['Sex_female', 'Sex_male', 'Age']]\n",
    "test_targets = cleaned_test_df[['Survived']]\n",
    "\n",
    "predictions = model.predict(test_inputs)\n",
    "mae(predictions, test_targets)\n",
    "\n",
    "#from here, we can say that our model has a 9% error rate,\n",
    "#which is pretty good!"
   ]
  },
  {
   "cell_type": "code",
   "execution_count": 8,
   "id": "7bc96fbf",
   "metadata": {
    "execution": {
     "iopub.execute_input": "2023-07-27T14:18:28.193954Z",
     "iopub.status.busy": "2023-07-27T14:18:28.193572Z",
     "iopub.status.idle": "2023-07-27T14:18:28.201374Z",
     "shell.execute_reply": "2023-07-27T14:18:28.200380Z"
    },
    "papermill": {
     "duration": 0.013886,
     "end_time": "2023-07-27T14:18:28.203130",
     "exception": false,
     "start_time": "2023-07-27T14:18:28.189244",
     "status": "completed"
    },
    "tags": []
   },
   "outputs": [
    {
     "name": "stdout",
     "output_type": "stream",
     "text": [
      "[0.]\n"
     ]
    }
   ],
   "source": [
    "will_author_survive = pd.DataFrame(data = {'Sex_female': [0],\n",
    "                                                 'Sex_male': [1],\n",
    "                                                 'Age': [20],\n",
    "                                                 })\n",
    "\n",
    "print(model.predict(will_author_survive))\n",
    "#i have a 0% chance of surviving the titanic"
   ]
  },
  {
   "cell_type": "markdown",
   "id": "1396d016",
   "metadata": {
    "papermill": {
     "duration": 0.004741,
     "end_time": "2023-07-27T14:18:28.211246",
     "exception": false,
     "start_time": "2023-07-27T14:18:28.206505",
     "status": "completed"
    },
    "tags": []
   },
   "source": [
    "# Predict your survival rate!\n",
    "\n",
    "I built a function that allows users to input their survival rates."
   ]
  },
  {
   "cell_type": "code",
   "execution_count": 9,
   "id": "be982f3f",
   "metadata": {
    "execution": {
     "iopub.execute_input": "2023-07-27T14:18:28.219288Z",
     "iopub.status.busy": "2023-07-27T14:18:28.218961Z",
     "iopub.status.idle": "2023-07-27T14:18:28.224241Z",
     "shell.execute_reply": "2023-07-27T14:18:28.223488Z"
    },
    "papermill": {
     "duration": 0.011237,
     "end_time": "2023-07-27T14:18:28.225772",
     "exception": false,
     "start_time": "2023-07-27T14:18:28.214535",
     "status": "completed"
    },
    "tags": []
   },
   "outputs": [],
   "source": [
    "def predict_survival():\n",
    "    # Create a DataFrame with the input data\n",
    "    sex_female = int(input(\"Is your sex female? (0 for no, 1 for yes)\\n\"))\n",
    "    sex_male = 0\n",
    "    if sex_female == 0:\n",
    "        sex_male = 1\n",
    "    age = int(input(\"Please input your age: \"))\n",
    "    input_data = pd.DataFrame({\n",
    "        'Sex_female': [sex_female],\n",
    "        'Sex_male': [sex_male],\n",
    "        'Age': [age]\n",
    "    })\n",
    "\n",
    "    # Use the trained model to predict survival (0 or 1) for the input data\n",
    "    prediction = model.predict(input_data)\n",
    "\n",
    "    # Display the prediction\n",
    "    print(f\"Survival rate: {int(prediction*100)}%\")"
   ]
  }
 ],
 "metadata": {
  "kernelspec": {
   "display_name": "Python 3",
   "language": "python",
   "name": "python3"
  },
  "language_info": {
   "codemirror_mode": {
    "name": "ipython",
    "version": 3
   },
   "file_extension": ".py",
   "mimetype": "text/x-python",
   "name": "python",
   "nbconvert_exporter": "python",
   "pygments_lexer": "ipython3",
   "version": "3.10.12"
  },
  "papermill": {
   "default_parameters": {},
   "duration": 9.686595,
   "end_time": "2023-07-27T14:18:28.947884",
   "environment_variables": {},
   "exception": null,
   "input_path": "__notebook__.ipynb",
   "output_path": "__notebook__.ipynb",
   "parameters": {},
   "start_time": "2023-07-27T14:18:19.261289",
   "version": "2.4.0"
  }
 },
 "nbformat": 4,
 "nbformat_minor": 5
}
