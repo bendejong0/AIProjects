{
 "cells": [
  {
   "cell_type": "code",
   "execution_count": 1,
   "id": "cc0318cc",
   "metadata": {
    "_cell_guid": "b1076dfc-b9ad-4769-8c92-a6c4dae69d19",
    "_uuid": "8f2839f25d086af736a60e9eeb907d3b93b6e0e5",
    "execution": {
     "iopub.execute_input": "2023-08-01T01:09:23.280226Z",
     "iopub.status.busy": "2023-08-01T01:09:23.279821Z",
     "iopub.status.idle": "2023-08-01T01:09:24.994039Z",
     "shell.execute_reply": "2023-08-01T01:09:24.992769Z"
    },
    "papermill": {
     "duration": 1.725632,
     "end_time": "2023-08-01T01:09:24.996800",
     "exception": false,
     "start_time": "2023-08-01T01:09:23.271168",
     "status": "completed"
    },
    "tags": []
   },
   "outputs": [
    {
     "name": "stderr",
     "output_type": "stream",
     "text": [
      "/opt/conda/lib/python3.10/site-packages/scipy/__init__.py:146: UserWarning: A NumPy version >=1.16.5 and <1.23.0 is required for this version of SciPy (detected version 1.23.5\n",
      "  warnings.warn(f\"A NumPy version >={np_minversion} and <{np_maxversion}\"\n"
     ]
    },
    {
     "name": "stdout",
     "output_type": "stream",
     "text": [
      "/kaggle/input/titanic/train.csv\n",
      "/kaggle/input/titanic/test.csv\n",
      "/kaggle/input/titanic/gender_submission.csv\n"
     ]
    }
   ],
   "source": [
    "# This Python 3 environment comes with many helpful analytics libraries installed\n",
    "# It is defined by the kaggle/python Docker image: https://github.com/kaggle/docker-python\n",
    "# For example, here's several helpful packages to load\n",
    "\n",
    "import numpy as np # linear algebra\n",
    "import pandas as pd # data processing, CSV file I/O (e.g. pd.read_csv)\n",
    "from sklearn import tree\n",
    "#no need to train_test_split because we have a test.csv and a train.csv\n",
    "from sklearn.preprocessing import OneHotEncoder # encode strings to binary\n",
    "from sklearn.metrics import mean_absolute_error as mae # so we can see how wrong we are\n",
    "from matplotlib import pyplot as plt # to graph and see what our model does (generally)\n",
    "\n",
    "# Input data files are available in the read-only \"../input/\" directory\n",
    "# For example, running this (by clicking run or pressing Shift+Enter) will list all files under the input directory\n",
    "\n",
    "import os\n",
    "for dirname, _, filenames in os.walk('/kaggle/input'):\n",
    "    for filename in filenames:\n",
    "        print(os.path.join(dirname, filename))\n",
    "\n",
    "# You can write up to 20GB to the current directory (/kaggle/working/) that gets preserved as output when you create a version using \"Save & Run All\" \n",
    "# You can also write temporary files to /kaggle/temp/, but they won't be saved outside of the current session"
   ]
  },
  {
   "cell_type": "code",
   "execution_count": 2,
   "id": "67ee561a",
   "metadata": {
    "execution": {
     "iopub.execute_input": "2023-08-01T01:09:25.011604Z",
     "iopub.status.busy": "2023-08-01T01:09:25.010553Z",
     "iopub.status.idle": "2023-08-01T01:09:25.065279Z",
     "shell.execute_reply": "2023-08-01T01:09:25.064098Z"
    },
    "papermill": {
     "duration": 0.064766,
     "end_time": "2023-08-01T01:09:25.068076",
     "exception": false,
     "start_time": "2023-08-01T01:09:25.003310",
     "status": "completed"
    },
    "tags": []
   },
   "outputs": [],
   "source": [
    "df = pd.read_csv('../input/titanic/train.csv')\n",
    "test = pd.read_csv('../input/titanic/test.csv')"
   ]
  },
  {
   "cell_type": "code",
   "execution_count": 3,
   "id": "fe989509",
   "metadata": {
    "execution": {
     "iopub.execute_input": "2023-08-01T01:09:25.082850Z",
     "iopub.status.busy": "2023-08-01T01:09:25.082430Z",
     "iopub.status.idle": "2023-08-01T01:09:25.117010Z",
     "shell.execute_reply": "2023-08-01T01:09:25.116030Z"
    },
    "papermill": {
     "duration": 0.045369,
     "end_time": "2023-08-01T01:09:25.119560",
     "exception": false,
     "start_time": "2023-08-01T01:09:25.074191",
     "status": "completed"
    },
    "tags": []
   },
   "outputs": [
    {
     "data": {
      "text/html": [
       "<div>\n",
       "<style scoped>\n",
       "    .dataframe tbody tr th:only-of-type {\n",
       "        vertical-align: middle;\n",
       "    }\n",
       "\n",
       "    .dataframe tbody tr th {\n",
       "        vertical-align: top;\n",
       "    }\n",
       "\n",
       "    .dataframe thead th {\n",
       "        text-align: right;\n",
       "    }\n",
       "</style>\n",
       "<table border=\"1\" class=\"dataframe\">\n",
       "  <thead>\n",
       "    <tr style=\"text-align: right;\">\n",
       "      <th></th>\n",
       "      <th>PassengerId</th>\n",
       "      <th>Survived</th>\n",
       "      <th>Pclass</th>\n",
       "      <th>Name</th>\n",
       "      <th>Sex</th>\n",
       "      <th>Age</th>\n",
       "      <th>SibSp</th>\n",
       "      <th>Parch</th>\n",
       "      <th>Ticket</th>\n",
       "      <th>Fare</th>\n",
       "      <th>Cabin</th>\n",
       "      <th>Embarked</th>\n",
       "    </tr>\n",
       "  </thead>\n",
       "  <tbody>\n",
       "    <tr>\n",
       "      <th>0</th>\n",
       "      <td>1</td>\n",
       "      <td>0</td>\n",
       "      <td>3</td>\n",
       "      <td>Braund, Mr. Owen Harris</td>\n",
       "      <td>male</td>\n",
       "      <td>22.0</td>\n",
       "      <td>1</td>\n",
       "      <td>0</td>\n",
       "      <td>A/5 21171</td>\n",
       "      <td>7.2500</td>\n",
       "      <td>NaN</td>\n",
       "      <td>S</td>\n",
       "    </tr>\n",
       "    <tr>\n",
       "      <th>1</th>\n",
       "      <td>2</td>\n",
       "      <td>1</td>\n",
       "      <td>1</td>\n",
       "      <td>Cumings, Mrs. John Bradley (Florence Briggs Th...</td>\n",
       "      <td>female</td>\n",
       "      <td>38.0</td>\n",
       "      <td>1</td>\n",
       "      <td>0</td>\n",
       "      <td>PC 17599</td>\n",
       "      <td>71.2833</td>\n",
       "      <td>C85</td>\n",
       "      <td>C</td>\n",
       "    </tr>\n",
       "    <tr>\n",
       "      <th>2</th>\n",
       "      <td>3</td>\n",
       "      <td>1</td>\n",
       "      <td>3</td>\n",
       "      <td>Heikkinen, Miss. Laina</td>\n",
       "      <td>female</td>\n",
       "      <td>26.0</td>\n",
       "      <td>0</td>\n",
       "      <td>0</td>\n",
       "      <td>STON/O2. 3101282</td>\n",
       "      <td>7.9250</td>\n",
       "      <td>NaN</td>\n",
       "      <td>S</td>\n",
       "    </tr>\n",
       "    <tr>\n",
       "      <th>3</th>\n",
       "      <td>4</td>\n",
       "      <td>1</td>\n",
       "      <td>1</td>\n",
       "      <td>Futrelle, Mrs. Jacques Heath (Lily May Peel)</td>\n",
       "      <td>female</td>\n",
       "      <td>35.0</td>\n",
       "      <td>1</td>\n",
       "      <td>0</td>\n",
       "      <td>113803</td>\n",
       "      <td>53.1000</td>\n",
       "      <td>C123</td>\n",
       "      <td>S</td>\n",
       "    </tr>\n",
       "    <tr>\n",
       "      <th>4</th>\n",
       "      <td>5</td>\n",
       "      <td>0</td>\n",
       "      <td>3</td>\n",
       "      <td>Allen, Mr. William Henry</td>\n",
       "      <td>male</td>\n",
       "      <td>35.0</td>\n",
       "      <td>0</td>\n",
       "      <td>0</td>\n",
       "      <td>373450</td>\n",
       "      <td>8.0500</td>\n",
       "      <td>NaN</td>\n",
       "      <td>S</td>\n",
       "    </tr>\n",
       "  </tbody>\n",
       "</table>\n",
       "</div>"
      ],
      "text/plain": [
       "   PassengerId  Survived  Pclass  \\\n",
       "0            1         0       3   \n",
       "1            2         1       1   \n",
       "2            3         1       3   \n",
       "3            4         1       1   \n",
       "4            5         0       3   \n",
       "\n",
       "                                                Name     Sex   Age  SibSp  \\\n",
       "0                            Braund, Mr. Owen Harris    male  22.0      1   \n",
       "1  Cumings, Mrs. John Bradley (Florence Briggs Th...  female  38.0      1   \n",
       "2                             Heikkinen, Miss. Laina  female  26.0      0   \n",
       "3       Futrelle, Mrs. Jacques Heath (Lily May Peel)  female  35.0      1   \n",
       "4                           Allen, Mr. William Henry    male  35.0      0   \n",
       "\n",
       "   Parch            Ticket     Fare Cabin Embarked  \n",
       "0      0         A/5 21171   7.2500   NaN        S  \n",
       "1      0          PC 17599  71.2833   C85        C  \n",
       "2      0  STON/O2. 3101282   7.9250   NaN        S  \n",
       "3      0            113803  53.1000  C123        S  \n",
       "4      0            373450   8.0500   NaN        S  "
      ]
     },
     "execution_count": 3,
     "metadata": {},
     "output_type": "execute_result"
    }
   ],
   "source": [
    "df.head()\n",
    "#0 is male, 1 is female"
   ]
  },
  {
   "cell_type": "code",
   "execution_count": 4,
   "id": "decf8a2a",
   "metadata": {
    "execution": {
     "iopub.execute_input": "2023-08-01T01:09:25.134040Z",
     "iopub.status.busy": "2023-08-01T01:09:25.133610Z",
     "iopub.status.idle": "2023-08-01T01:09:25.179470Z",
     "shell.execute_reply": "2023-08-01T01:09:25.178022Z"
    },
    "papermill": {
     "duration": 0.05856,
     "end_time": "2023-08-01T01:09:25.184457",
     "exception": false,
     "start_time": "2023-08-01T01:09:25.125897",
     "status": "completed"
    },
    "tags": []
   },
   "outputs": [],
   "source": [
    "#decision tree regression makes the most sense here because we're\n",
    "#we're trying link a lot of complicated data together in a linear way.\n",
    "\n",
    "model = tree.DecisionTreeRegressor()\n",
    "\n",
    "#One-hot encoding the 'Sex' column\n",
    "encoder = OneHotEncoder()\n",
    "encoded_data = encoder.fit_transform(df[['Sex']])\n",
    "encoded_df = pd.DataFrame(encoded_data.toarray(), columns=encoder.get_feature_names_out(input_features=['Sex']))\n",
    "new_df = pd.concat([df.drop('Sex', axis=1), encoded_df], axis=1)\n",
    "\n",
    "cleaned_df = new_df.dropna(axis=0)\n",
    "\n",
    "cleaned_df.head()\n",
    "\n",
    "encoded_test_data = encoder.fit_transform(df[['Sex']])\n",
    "encoded_test_df = pd.DataFrame(encoded_data.toarray(), columns = encoder.get_feature_names_out(input_features=['Sex']))\n",
    "new_test_df = pd.concat([df.drop('Sex', axis = 1), encoded_df], axis = 1)\n",
    "\n",
    "cleaned_test_df = new_test_df.dropna(axis=0)"
   ]
  },
  {
   "cell_type": "code",
   "execution_count": 5,
   "id": "ba8a285b",
   "metadata": {
    "execution": {
     "iopub.execute_input": "2023-08-01T01:09:25.199894Z",
     "iopub.status.busy": "2023-08-01T01:09:25.199443Z",
     "iopub.status.idle": "2023-08-01T01:09:25.207644Z",
     "shell.execute_reply": "2023-08-01T01:09:25.206261Z"
    },
    "papermill": {
     "duration": 0.019202,
     "end_time": "2023-08-01T01:09:25.210292",
     "exception": false,
     "start_time": "2023-08-01T01:09:25.191090",
     "status": "completed"
    },
    "tags": []
   },
   "outputs": [],
   "source": [
    "\n",
    "#creating inputs and targets for our decision tree regressor\n",
    "inputs = cleaned_df[['Sex_female', 'Sex_male', 'Age']]\n",
    "target = cleaned_df[['Survived']]"
   ]
  },
  {
   "cell_type": "code",
   "execution_count": 6,
   "id": "dab30acd",
   "metadata": {
    "execution": {
     "iopub.execute_input": "2023-08-01T01:09:25.225016Z",
     "iopub.status.busy": "2023-08-01T01:09:25.224288Z",
     "iopub.status.idle": "2023-08-01T01:09:25.243906Z",
     "shell.execute_reply": "2023-08-01T01:09:25.242501Z"
    },
    "papermill": {
     "duration": 0.02996,
     "end_time": "2023-08-01T01:09:25.246565",
     "exception": false,
     "start_time": "2023-08-01T01:09:25.216605",
     "status": "completed"
    },
    "tags": []
   },
   "outputs": [
    {
     "data": {
      "text/html": [
       "<style>#sk-container-id-1 {color: black;background-color: white;}#sk-container-id-1 pre{padding: 0;}#sk-container-id-1 div.sk-toggleable {background-color: white;}#sk-container-id-1 label.sk-toggleable__label {cursor: pointer;display: block;width: 100%;margin-bottom: 0;padding: 0.3em;box-sizing: border-box;text-align: center;}#sk-container-id-1 label.sk-toggleable__label-arrow:before {content: \"▸\";float: left;margin-right: 0.25em;color: #696969;}#sk-container-id-1 label.sk-toggleable__label-arrow:hover:before {color: black;}#sk-container-id-1 div.sk-estimator:hover label.sk-toggleable__label-arrow:before {color: black;}#sk-container-id-1 div.sk-toggleable__content {max-height: 0;max-width: 0;overflow: hidden;text-align: left;background-color: #f0f8ff;}#sk-container-id-1 div.sk-toggleable__content pre {margin: 0.2em;color: black;border-radius: 0.25em;background-color: #f0f8ff;}#sk-container-id-1 input.sk-toggleable__control:checked~div.sk-toggleable__content {max-height: 200px;max-width: 100%;overflow: auto;}#sk-container-id-1 input.sk-toggleable__control:checked~label.sk-toggleable__label-arrow:before {content: \"▾\";}#sk-container-id-1 div.sk-estimator input.sk-toggleable__control:checked~label.sk-toggleable__label {background-color: #d4ebff;}#sk-container-id-1 div.sk-label input.sk-toggleable__control:checked~label.sk-toggleable__label {background-color: #d4ebff;}#sk-container-id-1 input.sk-hidden--visually {border: 0;clip: rect(1px 1px 1px 1px);clip: rect(1px, 1px, 1px, 1px);height: 1px;margin: -1px;overflow: hidden;padding: 0;position: absolute;width: 1px;}#sk-container-id-1 div.sk-estimator {font-family: monospace;background-color: #f0f8ff;border: 1px dotted black;border-radius: 0.25em;box-sizing: border-box;margin-bottom: 0.5em;}#sk-container-id-1 div.sk-estimator:hover {background-color: #d4ebff;}#sk-container-id-1 div.sk-parallel-item::after {content: \"\";width: 100%;border-bottom: 1px solid gray;flex-grow: 1;}#sk-container-id-1 div.sk-label:hover label.sk-toggleable__label {background-color: #d4ebff;}#sk-container-id-1 div.sk-serial::before {content: \"\";position: absolute;border-left: 1px solid gray;box-sizing: border-box;top: 0;bottom: 0;left: 50%;z-index: 0;}#sk-container-id-1 div.sk-serial {display: flex;flex-direction: column;align-items: center;background-color: white;padding-right: 0.2em;padding-left: 0.2em;position: relative;}#sk-container-id-1 div.sk-item {position: relative;z-index: 1;}#sk-container-id-1 div.sk-parallel {display: flex;align-items: stretch;justify-content: center;background-color: white;position: relative;}#sk-container-id-1 div.sk-item::before, #sk-container-id-1 div.sk-parallel-item::before {content: \"\";position: absolute;border-left: 1px solid gray;box-sizing: border-box;top: 0;bottom: 0;left: 50%;z-index: -1;}#sk-container-id-1 div.sk-parallel-item {display: flex;flex-direction: column;z-index: 1;position: relative;background-color: white;}#sk-container-id-1 div.sk-parallel-item:first-child::after {align-self: flex-end;width: 50%;}#sk-container-id-1 div.sk-parallel-item:last-child::after {align-self: flex-start;width: 50%;}#sk-container-id-1 div.sk-parallel-item:only-child::after {width: 0;}#sk-container-id-1 div.sk-dashed-wrapped {border: 1px dashed gray;margin: 0 0.4em 0.5em 0.4em;box-sizing: border-box;padding-bottom: 0.4em;background-color: white;}#sk-container-id-1 div.sk-label label {font-family: monospace;font-weight: bold;display: inline-block;line-height: 1.2em;}#sk-container-id-1 div.sk-label-container {text-align: center;}#sk-container-id-1 div.sk-container {/* jupyter's `normalize.less` sets `[hidden] { display: none; }` but bootstrap.min.css set `[hidden] { display: none !important; }` so we also need the `!important` here to be able to override the default hidden behavior on the sphinx rendered scikit-learn.org. See: https://github.com/scikit-learn/scikit-learn/issues/21755 */display: inline-block !important;position: relative;}#sk-container-id-1 div.sk-text-repr-fallback {display: none;}</style><div id=\"sk-container-id-1\" class=\"sk-top-container\"><div class=\"sk-text-repr-fallback\"><pre>DecisionTreeRegressor()</pre><b>In a Jupyter environment, please rerun this cell to show the HTML representation or trust the notebook. <br />On GitHub, the HTML representation is unable to render, please try loading this page with nbviewer.org.</b></div><div class=\"sk-container\" hidden><div class=\"sk-item\"><div class=\"sk-estimator sk-toggleable\"><input class=\"sk-toggleable__control sk-hidden--visually\" id=\"sk-estimator-id-1\" type=\"checkbox\" checked><label for=\"sk-estimator-id-1\" class=\"sk-toggleable__label sk-toggleable__label-arrow\">DecisionTreeRegressor</label><div class=\"sk-toggleable__content\"><pre>DecisionTreeRegressor()</pre></div></div></div></div></div>"
      ],
      "text/plain": [
       "DecisionTreeRegressor()"
      ]
     },
     "execution_count": 6,
     "metadata": {},
     "output_type": "execute_result"
    }
   ],
   "source": [
    "#training the model using the .fit() method\n",
    "model.fit(inputs, target)"
   ]
  },
  {
   "cell_type": "code",
   "execution_count": 7,
   "id": "d2f4def5",
   "metadata": {
    "execution": {
     "iopub.execute_input": "2023-08-01T01:09:25.263771Z",
     "iopub.status.busy": "2023-08-01T01:09:25.263321Z",
     "iopub.status.idle": "2023-08-01T01:09:25.278090Z",
     "shell.execute_reply": "2023-08-01T01:09:25.276879Z"
    },
    "papermill": {
     "duration": 0.025418,
     "end_time": "2023-08-01T01:09:25.280582",
     "exception": false,
     "start_time": "2023-08-01T01:09:25.255164",
     "status": "completed"
    },
    "tags": []
   },
   "outputs": [
    {
     "data": {
      "text/plain": [
       "0.09705958886286756"
      ]
     },
     "execution_count": 7,
     "metadata": {},
     "output_type": "execute_result"
    }
   ],
   "source": [
    "test_inputs = cleaned_test_df[['Sex_female', 'Sex_male', 'Age']]\n",
    "test_targets = cleaned_test_df[['Survived']]\n",
    "\n",
    "predictions = model.predict(test_inputs)\n",
    "mae(predictions, test_targets)\n",
    "\n",
    "#from here, we can say that our model has a 9% error rate,\n",
    "#which is pretty good!"
   ]
  },
  {
   "cell_type": "code",
   "execution_count": 8,
   "id": "762ce0c9",
   "metadata": {
    "execution": {
     "iopub.execute_input": "2023-08-01T01:09:25.295480Z",
     "iopub.status.busy": "2023-08-01T01:09:25.295053Z",
     "iopub.status.idle": "2023-08-01T01:09:25.305078Z",
     "shell.execute_reply": "2023-08-01T01:09:25.303631Z"
    },
    "papermill": {
     "duration": 0.020912,
     "end_time": "2023-08-01T01:09:25.308044",
     "exception": false,
     "start_time": "2023-08-01T01:09:25.287132",
     "status": "completed"
    },
    "tags": []
   },
   "outputs": [
    {
     "name": "stdout",
     "output_type": "stream",
     "text": [
      "[0.]\n"
     ]
    }
   ],
   "source": [
    "will_author_survive = pd.DataFrame(data = {'Sex_female': [0],\n",
    "                                                 'Sex_male': [1],\n",
    "                                                 'Age': [20],\n",
    "                                                 })\n",
    "\n",
    "print(model.predict(will_author_survive))\n",
    "#i have a 0% chance of surviving the titanic"
   ]
  },
  {
   "cell_type": "markdown",
   "id": "9ddafed3",
   "metadata": {
    "papermill": {
     "duration": 0.006329,
     "end_time": "2023-08-01T01:09:25.321159",
     "exception": false,
     "start_time": "2023-08-01T01:09:25.314830",
     "status": "completed"
    },
    "tags": []
   },
   "source": [
    "# Predict your survival rate!\n",
    "\n",
    "I built a function that allows users to input their survival rates."
   ]
  },
  {
   "cell_type": "code",
   "execution_count": 9,
   "id": "67ce4bc2",
   "metadata": {
    "execution": {
     "iopub.execute_input": "2023-08-01T01:09:25.336366Z",
     "iopub.status.busy": "2023-08-01T01:09:25.335965Z",
     "iopub.status.idle": "2023-08-01T01:09:25.345492Z",
     "shell.execute_reply": "2023-08-01T01:09:25.344102Z"
    },
    "papermill": {
     "duration": 0.020422,
     "end_time": "2023-08-01T01:09:25.348335",
     "exception": false,
     "start_time": "2023-08-01T01:09:25.327913",
     "status": "completed"
    },
    "tags": []
   },
   "outputs": [],
   "source": [
    "def predict_survival():\n",
    "    # Create a DataFrame with the input data\n",
    "    sex_female = int(input(\"Is your sex female? (0 for no, 1 for yes)\\n\"))\n",
    "    sex_male = 0\n",
    "    if sex_female == 0:\n",
    "        sex_male = 1\n",
    "    age = int(input(\"Please input your age: \"))\n",
    "    input_data = pd.DataFrame({\n",
    "        'Sex_female': [sex_female],\n",
    "        'Sex_male': [sex_male],\n",
    "        'Age': [age]\n",
    "    })\n",
    "\n",
    "    # Use the trained model to predict survival (0 or 1) for the input data\n",
    "    prediction = model.predict(input_data)\n",
    "\n",
    "    # Display the prediction\n",
    "    print(f\"Survival rate: {int(prediction*100)}%\")"
   ]
  },
  {
   "cell_type": "code",
   "execution_count": 10,
   "id": "ee5513f3",
   "metadata": {
    "execution": {
     "iopub.execute_input": "2023-08-01T01:09:25.363896Z",
     "iopub.status.busy": "2023-08-01T01:09:25.363488Z",
     "iopub.status.idle": "2023-08-01T01:09:25.368310Z",
     "shell.execute_reply": "2023-08-01T01:09:25.366999Z"
    },
    "papermill": {
     "duration": 0.015613,
     "end_time": "2023-08-01T01:09:25.370788",
     "exception": false,
     "start_time": "2023-08-01T01:09:25.355175",
     "status": "completed"
    },
    "tags": []
   },
   "outputs": [],
   "source": [
    "#predict_survival()"
   ]
  },
  {
   "cell_type": "code",
   "execution_count": 11,
   "id": "e5545552",
   "metadata": {
    "execution": {
     "iopub.execute_input": "2023-08-01T01:09:25.386492Z",
     "iopub.status.busy": "2023-08-01T01:09:25.386038Z",
     "iopub.status.idle": "2023-08-01T01:09:25.704223Z",
     "shell.execute_reply": "2023-08-01T01:09:25.702669Z"
    },
    "papermill": {
     "duration": 0.330051,
     "end_time": "2023-08-01T01:09:25.707908",
     "exception": false,
     "start_time": "2023-08-01T01:09:25.377857",
     "status": "completed"
    },
    "tags": []
   },
   "outputs": [],
   "source": [
    "malesurvivalrate = []\n",
    "x = []\n",
    "femalesurvivalrate = []\n",
    "\n",
    "for i in range(100):\n",
    "    test1 = pd.DataFrame({\n",
    "        'Sex_female': [0],\n",
    "        'Sex_male': [1],\n",
    "        'Age': [i]\n",
    "    })\n",
    "    test2 = pd.DataFrame({\n",
    "        'Sex_female': [1],\n",
    "        'Sex_male': [0],\n",
    "        'Age': [i]\n",
    "    })\n",
    "    prediction = model.predict(test1)\n",
    "    prediction2 = model.predict(test2)\n",
    "    malesurvivalrate.append(prediction)\n",
    "    femalesurvivalrate.append(prediction2)\n",
    "    x.append(i)"
   ]
  },
  {
   "cell_type": "code",
   "execution_count": 12,
   "id": "8c9a52ff",
   "metadata": {
    "execution": {
     "iopub.execute_input": "2023-08-01T01:09:25.724052Z",
     "iopub.status.busy": "2023-08-01T01:09:25.723465Z",
     "iopub.status.idle": "2023-08-01T01:09:26.060902Z",
     "shell.execute_reply": "2023-08-01T01:09:26.059739Z"
    },
    "papermill": {
     "duration": 0.348674,
     "end_time": "2023-08-01T01:09:26.063624",
     "exception": false,
     "start_time": "2023-08-01T01:09:25.714950",
     "status": "completed"
    },
    "tags": []
   },
   "outputs": [
    {
     "data": {
      "text/plain": [
       "<matplotlib.collections.PathCollection at 0x7cdeb2e7d660>"
      ]
     },
     "execution_count": 12,
     "metadata": {},
     "output_type": "execute_result"
    },
    {
     "data": {
      "image/png": "[encoded data removed]",
      "text/plain": [
       "<Figure size 640x480 with 1 Axes>"
      ]
     },
     "metadata": {},
     "output_type": "display_data"
    }
   ],
   "source": [
    "#x axis is age, y axis is how likely a male would survive.\n",
    "plt.scatter(x, malesurvivalrate)"
   ]
  },
  {
   "cell_type": "code",
   "execution_count": 13,
   "id": "363b9448",
   "metadata": {
    "execution": {
     "iopub.execute_input": "2023-08-01T01:09:26.080276Z",
     "iopub.status.busy": "2023-08-01T01:09:26.079833Z",
     "iopub.status.idle": "2023-08-01T01:09:26.373855Z",
     "shell.execute_reply": "2023-08-01T01:09:26.372657Z"
    },
    "papermill": {
     "duration": 0.305589,
     "end_time": "2023-08-01T01:09:26.376653",
     "exception": false,
     "start_time": "2023-08-01T01:09:26.071064",
     "status": "completed"
    },
    "tags": []
   },
   "outputs": [
    {
     "data": {
      "text/plain": [
       "<matplotlib.collections.PathCollection at 0x7cdec4bcf9a0>"
      ]
     },
     "execution_count": 13,
     "metadata": {},
     "output_type": "execute_result"
    },
    {
     "data": {
      "image/png": "[encoded data removed]",
      "text/plain": [
       "<Figure size 640x480 with 1 Axes>"
      ]
     },
     "metadata": {},
     "output_type": "display_data"
    }
   ],
   "source": [
    "#x axis is age, y axis is how likely a female would survive.\n",
    "plt.scatter(x, femalesurvivalrate)"
   ]
  },
  {
   "cell_type": "code",
   "execution_count": null,
   "id": "826e5e60",
   "metadata": {
    "papermill": {
     "duration": 0.007605,
     "end_time": "2023-08-01T01:09:26.392276",
     "exception": false,
     "start_time": "2023-08-01T01:09:26.384671",
     "status": "completed"
    },
    "tags": []
   },
   "outputs": [],
   "source": []
  }
 ],
 "metadata": {
  "kernelspec": {
   "display_name": "Python 3",
   "language": "python",
   "name": "python3"
  },
  "language_info": {
   "codemirror_mode": {
    "name": "ipython",
    "version": 3
   },
   "file_extension": ".py",
   "mimetype": "text/x-python",
   "name": "python",
   "nbconvert_exporter": "python",
   "pygments_lexer": "ipython3",
   "version": "3.10.12"
  },
  "papermill": {
   "default_parameters": {},
   "duration": 16.79274,
   "end_time": "2023-08-01T01:09:27.424187",
   "environment_variables": {},
   "exception": null,
   "input_path": "__notebook__.ipynb",
   "output_path": "__notebook__.ipynb",
   "parameters": {},
   "start_time": "2023-08-01T01:09:10.631447",
   "version": "2.4.0"
  }
 },
 "nbformat": 4,
 "nbformat_minor": 5
}
